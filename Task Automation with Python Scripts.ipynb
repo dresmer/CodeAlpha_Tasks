{
 "cells": [
  {
   "cell_type": "code",
   "execution_count": 14,
   "id": "93319948-b694-4302-b7fb-a5dce1434ae9",
   "metadata": {},
   "outputs": [
    {
     "name": "stdout",
     "output_type": "stream",
     "text": [
      "Error: Could not connect to the website.\n",
      "Details: HTTPSConnectionPool(host='www.awein.org', port=443): Max retries exceeded with url: / (Caused by NameResolutionError(\"<urllib3.connection.HTTPSConnection object at 0x0000021FF9825310>: Failed to resolve 'www.awein.org' ([Errno 11001] getaddrinfo failed)\"))\n"
     ]
    }
   ],
   "source": [
    "import requests\n",
    "import re\n",
    "\n",
    "url = \"https://www.awein.org\"\n",
    "\n",
    "try:\n",
    "    response = requests.get(url)\n",
    "    html = response.text\n",
    "\n",
    "    match = re.search(r'<title>(.*?)</title>', html, re.IGNORECASE)\n",
    "\n",
    "    if match:\n",
    "        title = match.group(1)\n",
    "\n",
    "        with open(\"webpage_title.txt\", \"w\") as file:\n",
    "            file.write(\"Webpage Title:\\n\")\n",
    "\n",
    "        print(\"Title saved to 'webpage_title.txt'\")\n",
    "    else:\n",
    "        print(\"Title not found on the page.\")\n",
    "\n",
    "except requests.exceptions.RequestException as e:\n",
    "    print(\"Error: Could not connect to the website.\")\n",
    "    print(\"Details:\", e)\n"
   ]
  },
  {
   "cell_type": "code",
   "execution_count": null,
   "id": "129c0b37-f931-4082-8587-e82410ec45d2",
   "metadata": {},
   "outputs": [],
   "source": []
  }
 ],
 "metadata": {
  "kernelspec": {
   "display_name": "Python 3 (ipykernel)",
   "language": "python",
   "name": "python3"
  },
  "language_info": {
   "codemirror_mode": {
    "name": "ipython",
    "version": 3
   },
   "file_extension": ".py",
   "mimetype": "text/x-python",
   "name": "python",
   "nbconvert_exporter": "python",
   "pygments_lexer": "ipython3",
   "version": "3.13.3"
  }
 },
 "nbformat": 4,
 "nbformat_minor": 5
}
