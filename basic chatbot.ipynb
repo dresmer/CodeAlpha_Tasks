{
 "cells": [
  {
   "cell_type": "code",
   "execution_count": 1,
   "id": "e5a3c654-3846-42ec-8272-03964cc51f8d",
   "metadata": {},
   "outputs": [
    {
     "name": "stdout",
     "output_type": "stream",
     "text": [
      "Simple Chatbot (type 'bye' to exit)\n",
      "\n"
     ]
    },
    {
     "name": "stdin",
     "output_type": "stream",
     "text": [
      "You:  hi\n"
     ]
    },
    {
     "name": "stdout",
     "output_type": "stream",
     "text": [
      "Bot: Hello!\n"
     ]
    },
    {
     "name": "stdin",
     "output_type": "stream",
     "text": [
      "You:  wow\n"
     ]
    },
    {
     "name": "stdout",
     "output_type": "stream",
     "text": [
      "Bot: I don't understand that.\n"
     ]
    },
    {
     "name": "stdin",
     "output_type": "stream",
     "text": [
      "You:  what is python \n"
     ]
    },
    {
     "name": "stdout",
     "output_type": "stream",
     "text": [
      "Bot: I don't understand that.\n"
     ]
    },
    {
     "name": "stdin",
     "output_type": "stream",
     "text": [
      "You:  what is python\n"
     ]
    },
    {
     "name": "stdout",
     "output_type": "stream",
     "text": [
      "Bot: Python is a programming language.\n"
     ]
    },
    {
     "name": "stdin",
     "output_type": "stream",
     "text": [
      "You:  thanks\n"
     ]
    },
    {
     "name": "stdout",
     "output_type": "stream",
     "text": [
      "Bot: No problem!\n"
     ]
    },
    {
     "name": "stdin",
     "output_type": "stream",
     "text": [
      "You:  byr\n"
     ]
    },
    {
     "name": "stdout",
     "output_type": "stream",
     "text": [
      "Bot: I don't understand that.\n"
     ]
    },
    {
     "name": "stdin",
     "output_type": "stream",
     "text": [
      "You:  bye\n"
     ]
    },
    {
     "name": "stdout",
     "output_type": "stream",
     "text": [
      "Bot: Goodbye!\n"
     ]
    }
   ],
   "source": [
    "print(\"Simple Chatbot (type 'bye' to exit)\\n\")\n",
    "\n",
    "while True:\n",
    "    user_input = input(\"You: \").lower()\n",
    "\n",
    "    if user_input == \"hello\":\n",
    "        print(\"Bot: Hi!\")\n",
    "    elif user_input == \"hi\":\n",
    "        print(\"Bot: Hello!\")\n",
    "    elif user_input == \"how are you\":\n",
    "        print(\"Bot: I'm fine, thank you. How about you?\")\n",
    "    elif user_input == \"i am fine\":\n",
    "        print(\"Bot: That's good to hear.\")\n",
    "    elif user_input == \"what is your name\":\n",
    "        print(\"Bot: I'm a simple chatbot.\")\n",
    "    elif user_input == \"who made you\":\n",
    "        print(\"Bot: I was created by a Python programmer.\")\n",
    "    elif user_input == \"what can you do\":\n",
    "        print(\"Bot: I can reply to simple messages.\")\n",
    "    elif user_input == \"tell me a joke\":\n",
    "        print(\"Bot: Why did the programmer quit his job? Because he didn't get arrays!\")\n",
    "    elif user_input == \"thank you\":\n",
    "        print(\"Bot: You're welcome!\")\n",
    "    elif user_input == \"thanks\":\n",
    "        print(\"Bot: No problem!\")\n",
    "    elif user_input == \"what is python\":\n",
    "        print(\"Bot: Python is a programming language.\")\n",
    "    elif user_input == \"do you like me\":\n",
    "        print(\"Bot: Of course! You're my favorite user.\")\n",
    "    elif user_input == \"are you real\":\n",
    "        print(\"Bot: I'm as real as a bunch of code can be.\")\n",
    "    elif user_input == \"good morning\":\n",
    "        print(\"Bot: Good morning! Have a great day.\")\n",
    "    elif user_input == \"good night\":\n",
    "        print(\"Bot: Good night! Sleep well.\")\n",
    "    elif user_input == \"what's up\":\n",
    "        print(\"Bot: Just chatting with you.\")\n",
    "    elif user_input == \"how old are you\":\n",
    "        print(\"Bot: I'm timeless.\")\n",
    "    elif user_input == \"can you help me\":\n",
    "        print(\"Bot: Sure, I’ll try my best.\")\n",
    "    elif user_input == \"do you know me\":\n",
    "        print(\"Bot: I know you now!\")\n",
    "    elif user_input == \"bye\":\n",
    "        print(\"Bot: Goodbye!\")\n",
    "        break\n",
    "    else:\n",
    "        print(\"Bot: I don't understand that.\")\n"
   ]
  },
  {
   "cell_type": "code",
   "execution_count": null,
   "id": "3cb3c8ec-ba39-4d46-8f2b-ead58504cd58",
   "metadata": {},
   "outputs": [],
   "source": []
  }
 ],
 "metadata": {
  "kernelspec": {
   "display_name": "Python 3 (ipykernel)",
   "language": "python",
   "name": "python3"
  },
  "language_info": {
   "codemirror_mode": {
    "name": "ipython",
    "version": 3
   },
   "file_extension": ".py",
   "mimetype": "text/x-python",
   "name": "python",
   "nbconvert_exporter": "python",
   "pygments_lexer": "ipython3",
   "version": "3.13.3"
  }
 },
 "nbformat": 4,
 "nbformat_minor": 5
}
