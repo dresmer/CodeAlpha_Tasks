{
 "cells": [
  {
   "cell_type": "code",
   "execution_count": 2,
   "id": "06a7ebef-c85d-441e-a560-3b46c8e3ce9e",
   "metadata": {},
   "outputs": [
    {
     "name": "stdout",
     "output_type": "stream",
     "text": [
      "Welcome to Hangman!\n",
      "Guess the word one letter at a time.\n",
      "You have 6 wrong attempts.\n",
      "\n",
      "Current word: _ _ _ _ _ _\n"
     ]
    },
    {
     "name": "stdin",
     "output_type": "stream",
     "text": [
      "Enter a letter:  p\n"
     ]
    },
    {
     "name": "stdout",
     "output_type": "stream",
     "text": [
      "Correct guess!\n",
      "\n",
      "Current word: _ _ p _ _ p\n"
     ]
    },
    {
     "name": "stdin",
     "output_type": "stream",
     "text": [
      "Enter a letter:  b\n"
     ]
    },
    {
     "name": "stdout",
     "output_type": "stream",
     "text": [
      "Wrong guess. Attempts left: 5 \n",
      "\n",
      "Current word: _ _ p _ _ p\n"
     ]
    },
    {
     "name": "stdin",
     "output_type": "stream",
     "text": [
      "Enter a letter:  r\n"
     ]
    },
    {
     "name": "stdout",
     "output_type": "stream",
     "text": [
      "Wrong guess. Attempts left: 4 \n",
      "\n",
      "Current word: _ _ p _ _ p\n"
     ]
    },
    {
     "name": "stdin",
     "output_type": "stream",
     "text": [
      "Enter a letter:  e\n"
     ]
    },
    {
     "name": "stdout",
     "output_type": "stream",
     "text": [
      "Wrong guess. Attempts left: 3 \n",
      "\n",
      "Current word: _ _ p _ _ p\n"
     ]
    },
    {
     "name": "stdin",
     "output_type": "stream",
     "text": [
      "Enter a letter:  \n"
     ]
    },
    {
     "name": "stdout",
     "output_type": "stream",
     "text": [
      "Invalid input. Please enter a single letter.\n",
      "\n",
      "Current word: _ _ p _ _ p\n"
     ]
    },
    {
     "name": "stdin",
     "output_type": "stream",
     "text": [
      "Enter a letter:  w\n"
     ]
    },
    {
     "name": "stdout",
     "output_type": "stream",
     "text": [
      "Wrong guess. Attempts left: 2 \n",
      "\n",
      "Current word: _ _ p _ _ p\n"
     ]
    },
    {
     "name": "stdin",
     "output_type": "stream",
     "text": [
      "Enter a letter:  r\n"
     ]
    },
    {
     "name": "stdout",
     "output_type": "stream",
     "text": [
      "You already guessed that letter.\n",
      "\n",
      "Current word: _ _ p _ _ p\n"
     ]
    },
    {
     "name": "stdin",
     "output_type": "stream",
     "text": [
      "Enter a letter:  g\n"
     ]
    },
    {
     "name": "stdout",
     "output_type": "stream",
     "text": [
      "Wrong guess. Attempts left: 1 \n",
      "\n",
      "Current word: _ _ p _ _ p\n"
     ]
    },
    {
     "name": "stdin",
     "output_type": "stream",
     "text": [
      "Enter a letter:  y\n"
     ]
    },
    {
     "name": "stdout",
     "output_type": "stream",
     "text": [
      "Wrong guess. Attempts left: 0 \n",
      "\n",
      "Game over! The correct word was: laptop\n"
     ]
    }
   ],
   "source": [
    "import random\n",
    "\n",
    "# List of 5 predefined words\n",
    "words = [\"sofa\",\"chair\",\"laptop\",\"sky\",\"pythonCode\"]\n",
    "\n",
    "# Randomly choose a word\n",
    "word = random.choice(words)\n",
    "\n",
    "# Create placeholders for the hidden word\n",
    "hidden = ['_'] * len(word)\n",
    "\n",
    "# To track the guessed letters\n",
    "guessed = []\n",
    "\n",
    "# Maximum number of wrong attempts\n",
    "max_attempts = 6\n",
    "wrong_attempts = 0\n",
    "\n",
    "print(\"Welcome to Hangman!\")\n",
    "print(\"Guess the word one letter at a time.\")\n",
    "print(\"You have 6 wrong attempts.\\n\")\n",
    "\n",
    "while wrong_attempts < max_attempts and '_' in hidden:\n",
    "    print(\"Current word:\", ' '.join(hidden))\n",
    "    guess = input(\"Enter a letter: \").lower()\n",
    "\n",
    "    if not guess.isalpha() or len(guess) != 1:\n",
    "        print(\"Invalid input. Please enter a single letter.\\n\")\n",
    "        continue\n",
    "\n",
    "    if guess in guessed:\n",
    "        print(\"You already guessed that letter.\\n\")\n",
    "        continue\n",
    "\n",
    "    guessed.append(guess)\n",
    "\n",
    "    if guess in word:\n",
    "        for i in range(len(word)):\n",
    "            if word[i] == guess:\n",
    "                hidden[i] = guess\n",
    "        print(\"Correct guess!\\n\")\n",
    "    else:\n",
    "        wrong_attempts += 1\n",
    "        print(\"Wrong guess. Attempts left:\", max_attempts - wrong_attempts, \"\\n\")\n",
    "\n",
    "# End of game\n",
    "if '_' not in hidden:\n",
    "    print(\"Congratulations! You guessed the word:\", word)\n",
    "else:\n",
    "    print(\"Game over! The correct word was:\", word)\n"
   ]
  },
  {
   "cell_type": "code",
   "execution_count": null,
   "id": "87ecc9b7-88f7-41d3-85a5-2624f0ed60cb",
   "metadata": {},
   "outputs": [],
   "source": []
  }
 ],
 "metadata": {
  "kernelspec": {
   "display_name": "Python 3 (ipykernel)",
   "language": "python",
   "name": "python3"
  },
  "language_info": {
   "codemirror_mode": {
    "name": "ipython",
    "version": 3
   },
   "file_extension": ".py",
   "mimetype": "text/x-python",
   "name": "python",
   "nbconvert_exporter": "python",
   "pygments_lexer": "ipython3",
   "version": "3.13.3"
  }
 },
 "nbformat": 4,
 "nbformat_minor": 5
}
