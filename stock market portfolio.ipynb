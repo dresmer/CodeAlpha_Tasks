{
 "cells": [
  {
   "cell_type": "code",
   "execution_count": 1,
   "id": "09b21473-fd28-419b-bc06-d67ddf73802a",
   "metadata": {},
   "outputs": [
    {
     "name": "stdout",
     "output_type": "stream",
     "text": [
      "Simple Stock Portfolio Tracker\n",
      "Available stocks: AAPL, TSLA, MSFT, GOOG, AMZN\n",
      "Type 'done' to finish.\n",
      "\n"
     ]
    },
    {
     "name": "stdin",
     "output_type": "stream",
     "text": [
      "Enter stock symbol:  aapl\n",
      "Enter quantity:  34\n"
     ]
    },
    {
     "name": "stdout",
     "output_type": "stream",
     "text": [
      "Added 34 shares of AAPL at $180 each.\n",
      "\n"
     ]
    },
    {
     "name": "stdin",
     "output_type": "stream",
     "text": [
      "Enter stock symbol:  done\n"
     ]
    },
    {
     "name": "stdout",
     "output_type": "stream",
     "text": [
      "Total Investment Value: $ 6120\n",
      "Summary saved to 'portfolio.txt'\n"
     ]
    }
   ],
   "source": [
    "# Hardcoded stock prices\n",
    "stock_prices = {\n",
    "    \"AAPL\": 180,\n",
    "    \"TSLA\": 250,\n",
    "    \"MSFT\": 300,\n",
    "    \"GOOG\": 2700,\n",
    "    \"AMZN\": 3300\n",
    "}\n",
    "\n",
    "total_investment = 0\n",
    "portfolio = {}\n",
    "\n",
    "print(\"Simple Stock Portfolio Tracker\")\n",
    "print(\"Available stocks:\", ', '.join(stock_prices.keys()))\n",
    "print(\"Type 'done' to finish.\\n\")\n",
    "\n",
    "while True:\n",
    "    stock = input(\"Enter stock symbol: \").upper()\n",
    "\n",
    "    if stock == 'DONE':\n",
    "        break\n",
    "\n",
    "    if stock not in stock_prices:\n",
    "        print(\"Stock not found. Try again.\\n\")\n",
    "        continue\n",
    "\n",
    "    quantity = input(\"Enter quantity: \")\n",
    "\n",
    "    if not quantity.isdigit():\n",
    "        print(\"Please enter a valid number.\\n\")\n",
    "        continue\n",
    "\n",
    "    quantity = int(quantity)\n",
    "    price = stock_prices[stock]\n",
    "    total_investment += price * quantity\n",
    "\n",
    "    if stock in portfolio:\n",
    "        portfolio[stock] += quantity\n",
    "    else:\n",
    "        portfolio[stock] = quantity\n",
    "\n",
    "    print(f\"Added {quantity} shares of {stock} at ${price} each.\\n\")\n",
    "\n",
    "# Show total and write to file\n",
    "print(\"Total Investment Value: $\", total_investment)\n",
    "\n",
    "with open(\"portfolio.txt\", \"w\") as file:\n",
    "    file.write(\"Your Stock Portfolio:\\n\")\n",
    "    for stock, qty in portfolio.items():\n",
    "        price = stock_prices[stock]\n",
    "        value = price * qty\n",
    "        file.write(f\"{stock}: {qty} shares x ${price} = ${value}\\n\")\n",
    "    file.write(f\"\\nTotal Investment Value: ${total_investment}\\n\")\n",
    "\n",
    "print(\"Summary saved to 'portfolio.txt'\")\n"
   ]
  },
  {
   "cell_type": "code",
   "execution_count": null,
   "id": "2212146d-a117-41ee-820c-d83e82179599",
   "metadata": {},
   "outputs": [],
   "source": []
  }
 ],
 "metadata": {
  "kernelspec": {
   "display_name": "Python 3 (ipykernel)",
   "language": "python",
   "name": "python3"
  },
  "language_info": {
   "codemirror_mode": {
    "name": "ipython",
    "version": 3
   },
   "file_extension": ".py",
   "mimetype": "text/x-python",
   "name": "python",
   "nbconvert_exporter": "python",
   "pygments_lexer": "ipython3",
   "version": "3.13.3"
  }
 },
 "nbformat": 4,
 "nbformat_minor": 5
}
